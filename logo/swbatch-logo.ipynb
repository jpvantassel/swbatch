{
 "cells": [
  {
   "cell_type": "markdown",
   "metadata": {},
   "source": [
    "# Create Logo for SWbatch\n",
    "\n",
    "> Joseph P. Vantassel, The University of Texas at Austin"
   ]
  },
  {
   "cell_type": "code",
   "execution_count": 1,
   "metadata": {},
   "outputs": [],
   "source": [
    "import matplotlib.pyplot as plt\n",
    "import numpy as np\n",
    "\n",
    "import swprepost"
   ]
  },
  {
   "cell_type": "code",
   "execution_count": 5,
   "metadata": {},
   "outputs": [
    {
     "data": {
      "image/png": "[encoded data removed]",
      "text/plain": [
       "<Figure size 150x150 with 1 Axes>"
      ]
     },
     "metadata": {},
     "output_type": "display_data"
    }
   ],
   "source": [
    "seeds = 10\n",
    "\n",
    "lrs = [\"12\", \"15\", \"20\", \"30\"]\n",
    "\n",
    "best_gms = []\n",
    "for lr in lrs:\n",
    "    gms = []\n",
    "    for seed in range(seeds):\n",
    "        fname = f\"../../swinvert/validation_set/3_linkvp/3_Results/Tar12/VS2_Tar12_LR{lr}_Sd{seed}_GM.txt\"\n",
    "        gm = swprepost.GroundModel.from_geopsy(fname=fname)\n",
    "        gms.append(gm)\n",
    "    suite = swprepost.GroundModelSuite.from_list(gms, sort=True)\n",
    "    best_gms.append(suite[0])\n",
    "\n",
    "lns = [\"4\", \"5\", \"7\", \"9\", \"14\"]\n",
    "for ln in lns:\n",
    "    gms = []\n",
    "    for seed in range(seeds):\n",
    "        fname = f\"../../swinvert/validation_set/3_linkvp/3_Results/Tar12/VS2_Tar12_LN{ln}_Sd{seed}_GM.txt\"\n",
    "        gm = swprepost.GroundModel.from_geopsy(fname=fname)\n",
    "        gms.append(gm)\n",
    "    suite = swprepost.GroundModelSuite.from_list(gms, sort=True)\n",
    "    best_gms.append(suite[0])\n",
    "\n",
    "fig, ax = plt.subplots(figsize=(1,1), dpi=150)\n",
    "\n",
    "for gm in best_gms:\n",
    "    ax.plot(gm.vs2, gm.depth, color=\"#ababab\", linewidth=0.5)\n",
    "    label=None\n",
    "\n",
    "ax.set_ylim(50,0)\n",
    "ax.set_xticks([])\n",
    "ax.set_yticks([])\n",
    "ax.set_xlabel(\"Vs\", fontname=\"Arial\", fontsize=8)\n",
    "ax.set_ylabel(\"Depth\", fontname=\"Arial\", fontsize=8)\n",
    "ax.set_xlim(0, 1000)\n",
    "\n",
    "ax.spines[\"right\"].set_visible(False)\n",
    "ax.spines[\"top\"].set_visible(False)\n",
    "\n",
    "plt.savefig(\"swbatch-logo_base.svg\", bbox_inches=\"tight\")\n",
    "plt.show()"
   ]
  },
  {
   "cell_type": "code",
   "execution_count": null,
   "metadata": {},
   "outputs": [],
   "source": []
  }
 ],
 "metadata": {
  "kernelspec": {
   "display_name": "Python 3",
   "language": "python",
   "name": "python3"
  },
  "language_info": {
   "codemirror_mode": {
    "name": "ipython",
    "version": 3
   },
   "file_extension": ".py",
   "mimetype": "text/x-python",
   "name": "python",
   "nbconvert_exporter": "python",
   "pygments_lexer": "ipython3",
   "version": "3.7.5"
  }
 },
 "nbformat": 4,
 "nbformat_minor": 4
}
